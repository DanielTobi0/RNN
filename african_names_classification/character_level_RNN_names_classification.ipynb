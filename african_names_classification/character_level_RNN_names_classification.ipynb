{
  "cells": [
    {
      "cell_type": "markdown",
      "metadata": {
        "id": "9UrDrrf4weHW"
      },
      "source": [
        "# Classifying african names using RNN\n",
        "\n",
        "In this notebook, I will be building a simple character-level RNN to classify words.\n",
        "\n",
        "The data is sourced using [name-dataset](https://github.com/philipperemy/name-dataset) libary.\n"
      ]
    },
    {
      "cell_type": "markdown",
      "metadata": {
        "id": "SY-nK2Ih0Db-"
      },
      "source": [
        "## Data preparation"
      ]
    },
    {
      "cell_type": "markdown",
      "source": [
        "Country names and their short code\n",
        "```\n",
        "Burundi:      BI             \n",
        "Bostwana:     BW             \n",
        "Burkina Faso: BF\n",
        "Cameroon:     CA             \n",
        "Djibouti:     DJ              \n",
        "Ghana:        GH                \n",
        "Namibia:      NA              \n",
        "Nigeria:      NG              \n",
        "South Africa: ZA\n",
        "```"
      ],
      "metadata": {
        "id": "Ieu-87Zx9918"
      }
    },
    {
      "cell_type": "code",
      "execution_count": 1,
      "metadata": {
        "id": "oNKgOKf9sbCh"
      },
      "outputs": [],
      "source": [
        "# Importing libaries\n",
        "\n",
        "from io import open\n",
        "import glob\n",
        "import os\n",
        "\n",
        "\n",
        "def find_files(path: str):\n",
        "  ''' Return all availble files that have a .txt extension, from the given path.'''\n",
        "  return glob.glob(path)\n",
        "\n",
        "\n",
        "\n",
        "import unicodedata\n",
        "import string\n",
        "\n",
        "# Combining the ascii character with some other characters.\n",
        "all_letters = string.ascii_letters + \" .,;'\"\n",
        "n_letters = len(all_letters)\n",
        "\n",
        "\n",
        "# Turn a Unicode string to plain ASCII\n",
        "def unicode_to_ascii(s):\n",
        "  return ''.join(\n",
        "      c for c in unicodedata.normalize('NFD', s)\n",
        "      if unicodedata.category(c) != 'Mn'\n",
        "      and c in all_letters\n",
        "  )\n",
        "# print(unicode_to_ascii('Ślusàrski')) -> Slusarski\n",
        "\n",
        "\n",
        "def read_lines(filename):\n",
        "  '''Read a file, convert all text to plain ASCII and return as words in a list.'''\n",
        "  lines = open(filename, encoding='utf-8').read().strip().split('\\n')\n",
        "  return [unicode_to_ascii(line) for line in lines]\n",
        "\n",
        "\n",
        "\n",
        "# Build a vocabulary_line dictionary,\n",
        "# mapping multiples names (item) to country (key). example {'country_code': [names]}\n",
        "category_lines = {}\n",
        "all_categories = []\n",
        "path = '/content/drive/MyDrive/Colab_Notebooks/So_help_me_God/common_countries_name/*.txt'\n",
        "\n",
        "for filename in find_files(path):\n",
        "  category = os.path.splitext(os.path.basename(filename))[0]\n",
        "  all_categories.append(category)\n",
        "  lines = read_lines(filename)\n",
        "  category_lines[category] = lines\n",
        "\n",
        "n_categories = len(all_categories)"
      ]
    },
    {
      "cell_type": "code",
      "source": [
        "all_categories"
      ],
      "metadata": {
        "colab": {
          "base_uri": "https://localhost:8080/"
        },
        "id": "Jhzsq0STVvOy",
        "outputId": "17291eba-5847-4887-c357-4dc126345c95"
      },
      "execution_count": 2,
      "outputs": [
        {
          "output_type": "execute_result",
          "data": {
            "text/plain": [
              "['BI', 'BW', 'BF', 'CA', 'DJ', 'GH', 'NA', 'NG', 'ZA']"
            ]
          },
          "metadata": {},
          "execution_count": 2
        }
      ]
    },
    {
      "cell_type": "code",
      "execution_count": 3,
      "metadata": {
        "colab": {
          "base_uri": "https://localhost:8080/"
        },
        "id": "-8W2GefF47j7",
        "outputId": "147df26e-11d3-4bbf-f4ec-7ddc5033e9b9"
      },
      "outputs": [
        {
          "output_type": "stream",
          "name": "stdout",
          "text": [
            "['Ezinne', 'Jumai', 'Ayodeji', 'Badmus', 'Adaora']\n"
          ]
        }
      ],
      "source": [
        "print(category_lines['NG'][:5])"
      ]
    },
    {
      "cell_type": "markdown",
      "metadata": {
        "id": "HgPVgouD8YCk"
      },
      "source": [
        "## Name to Tensor\n",
        "In this part, the inputed name is converted into tensors, using the One-hot-vector method."
      ]
    },
    {
      "cell_type": "code",
      "execution_count": 4,
      "metadata": {
        "colab": {
          "base_uri": "https://localhost:8080/"
        },
        "id": "mJurwan97Rlq",
        "outputId": "74716d2e-248b-4238-b67f-fca479fa6be9"
      },
      "outputs": [
        {
          "output_type": "execute_result",
          "data": {
            "text/plain": [
              "tensor([[[1., 0., 0., 0., 0., 0., 0., 0., 0., 0., 0., 0., 0., 0., 0., 0., 0.,\n",
              "          0., 0., 0., 0., 0., 0., 0., 0., 0., 0., 0., 0., 0., 0., 0., 0., 0.,\n",
              "          0., 0., 0., 0., 0., 0., 0., 0., 0., 0., 0., 0., 0., 0., 0., 0., 0.,\n",
              "          0., 0., 0., 0., 0., 0.]],\n",
              "\n",
              "        [[0., 1., 0., 0., 0., 0., 0., 0., 0., 0., 0., 0., 0., 0., 0., 0., 0.,\n",
              "          0., 0., 0., 0., 0., 0., 0., 0., 0., 0., 0., 0., 0., 0., 0., 0., 0.,\n",
              "          0., 0., 0., 0., 0., 0., 0., 0., 0., 0., 0., 0., 0., 0., 0., 0., 0.,\n",
              "          0., 0., 0., 0., 0., 0.]],\n",
              "\n",
              "        [[0., 0., 1., 0., 0., 0., 0., 0., 0., 0., 0., 0., 0., 0., 0., 0., 0.,\n",
              "          0., 0., 0., 0., 0., 0., 0., 0., 0., 0., 0., 0., 0., 0., 0., 0., 0.,\n",
              "          0., 0., 0., 0., 0., 0., 0., 0., 0., 0., 0., 0., 0., 0., 0., 0., 0.,\n",
              "          0., 0., 0., 0., 0., 0.]]])"
            ]
          },
          "metadata": {},
          "execution_count": 4
        }
      ],
      "source": [
        "import torchtext, torch\n",
        "\n",
        "def letter_to_index(letter):\n",
        "  '''Returns the index of a single passed character/letter.'''\n",
        "  return all_letters.find(letter)\n",
        "\n",
        "def letter_to_tensor(letter):\n",
        "  '''One hot vector. example [0,0,0,1,0,0] where only one index gets 1 rest is 0.'''\n",
        "  tensor = torch.zeros(1, n_letters)\n",
        "  tensor[0][letter_to_index(letter)] = 1\n",
        "  return tensor\n",
        "\n",
        "\n",
        "def line_to_tensor(line):\n",
        "  '''Turn a name into tensor'''\n",
        "  tensor = torch.zeros(len(line), 1, n_letters)\n",
        "  for li, letter in enumerate(line):\n",
        "    tensor[li][0][letter_to_index(letter)] = 1\n",
        "  return tensor\n",
        "\n",
        "# In each dimension only one index becomes 1, rest is 0.\n",
        "line_to_tensor('abc')"
      ]
    },
    {
      "cell_type": "markdown",
      "metadata": {
        "id": "LE_HksXvBzvn"
      },
      "source": [
        "# Creating the Network"
      ]
    },
    {
      "cell_type": "code",
      "execution_count": 5,
      "metadata": {
        "id": "CM1om9cqDXsw"
      },
      "outputs": [],
      "source": [
        "import torch.nn as nn\n",
        "import torch.nn.functional as F\n",
        "\n",
        "class RNN(nn.Module):\n",
        "  def __init__(self, input_size, hidden_size, output_size):\n",
        "    super(RNN, self).__init__()\n",
        "\n",
        "    self.hidden_size = hidden_size\n",
        "    # self.i2h = nn.Linear(input_size + hidden_size, hidden_size)\n",
        "    self.i2h = nn.Linear(input_size, hidden_size)\n",
        "    self.h2h = nn.Linear(hidden_size, hidden_size)\n",
        "    self.h2o = nn.Linear(hidden_size, output_size)\n",
        "    self.softmax = nn.LogSoftmax(dim=1)\n",
        "\n",
        "  def forward(self, input, hidden):\n",
        "    # combined = torch.cat((input, hidden), 1) # shape torch.Size([1, input+hidden])\n",
        "    # hidden = self.i2h(combined)\n",
        "    hidden = F.tanh(self.i2h(input) + self.h2h(hidden))\n",
        "    output = self.h2o(hidden)\n",
        "    output = self.softmax(output)\n",
        "    return output, hidden\n",
        "\n",
        "  def init_hidden(self):\n",
        "    return torch.zeros(1, self.hidden_size)\n",
        "\n",
        "n_hidden = 128\n",
        "rnn = RNN(n_letters, n_hidden, n_categories) # n_letter(57 characters) as input, n_categories: numbers of countries to predict"
      ]
    },
    {
      "cell_type": "markdown",
      "source": [
        "## Running a single step\n",
        "in this step only one value in the name is passed through the model.\n"
      ],
      "metadata": {
        "id": "bPVUJAlf_5i1"
      }
    },
    {
      "cell_type": "code",
      "execution_count": 6,
      "metadata": {
        "colab": {
          "base_uri": "https://localhost:8080/"
        },
        "id": "Wu5VN-K1FcQr",
        "outputId": "f5bb6234-92bc-41ae-f1d3-5c956e1d0f94"
      },
      "outputs": [
        {
          "output_type": "stream",
          "name": "stdout",
          "text": [
            "torch.Size([1, 57])\n"
          ]
        },
        {
          "output_type": "execute_result",
          "data": {
            "text/plain": [
              "tensor([[-2.2162, -2.1945, -2.2456, -2.0865, -2.1477, -2.1042, -2.2638, -2.2598,\n",
              "         -2.2773]], grad_fn=<LogSoftmaxBackward0>)"
            ]
          },
          "metadata": {},
          "execution_count": 6
        }
      ],
      "source": [
        "input = line_to_tensor('Daniel') # torch.Size([6, 1, 57])\n",
        "print(input[0].shape) # 'D' torch.Size([1, 57])\n",
        "hidden = torch.zeros(1, n_hidden) # same size as above\n",
        "\n",
        "output, next_hidden = rnn(input[0], hidden) # forward pass\n",
        "output # Propabilities prediction of each country the name might belong"
      ]
    },
    {
      "cell_type": "markdown",
      "metadata": {
        "id": "5KdQD4AlKCIx"
      },
      "source": [
        "## Training"
      ]
    },
    {
      "cell_type": "code",
      "execution_count": 7,
      "metadata": {
        "colab": {
          "base_uri": "https://localhost:8080/"
        },
        "id": "aM_yMmsWFpay",
        "outputId": "f5a48b34-bd50-4aed-8a90-a26a9f63b3a5"
      },
      "outputs": [
        {
          "output_type": "execute_result",
          "data": {
            "text/plain": [
              "('CA', 3)"
            ]
          },
          "metadata": {},
          "execution_count": 7
        }
      ],
      "source": [
        "def category_from_output(output: torch.Tensor):\n",
        "  '''\n",
        "  a function to return the top predicted country for a name\n",
        "  '''\n",
        "  top_n, top_i = output.topk(1)\n",
        "  category_i = top_i[0].item()\n",
        "  return all_categories[category_i], category_i\n",
        "\n",
        "category_from_output(output)"
      ]
    },
    {
      "cell_type": "markdown",
      "source": [
        "## Returns a random training example\n",
        "a function to quickly get a trainng example. To return name and its language"
      ],
      "metadata": {
        "id": "H5Ug0srMBrME"
      }
    },
    {
      "cell_type": "code",
      "execution_count": 8,
      "metadata": {
        "colab": {
          "base_uri": "https://localhost:8080/"
        },
        "id": "itzIqKi1JnV7",
        "outputId": "22f88b7f-30dc-4efc-ab5e-b79346c36bdd"
      },
      "outputs": [
        {
          "output_type": "stream",
          "name": "stdout",
          "text": [
            "BW Natefo 1 torch.Size([6, 1, 57])\n",
            "BI Nishly 0 torch.Size([6, 1, 57])\n",
            "GH Saidu 5 torch.Size([5, 1, 57])\n",
            "DJ Imaha 4 torch.Size([5, 1, 57])\n",
            "BF Lamnister 2 torch.Size([9, 1, 57])\n",
            "ZA Sne 8 torch.Size([3, 1, 57])\n",
            "GH Gyamfuaa 5 torch.Size([8, 1, 57])\n",
            "GH Efo 5 torch.Size([3, 1, 57])\n",
            "NG Zaharaddeen 7 torch.Size([11, 1, 57])\n",
            "BF Ltca 2 torch.Size([4, 1, 57])\n"
          ]
        }
      ],
      "source": [
        "import random\n",
        "\n",
        "def random_choice(l):\n",
        "  '''returns a random character from l, based on indexing.'''\n",
        "  return l[random.randint(0, len(l)-1)]\n",
        "\n",
        "def random_training_example():\n",
        "  '''Returns a random training example.'''\n",
        "  category = random_choice(all_categories) # returns a random country code\n",
        "  line = random_choice(category_lines[category]) # gets a name.\n",
        "  category_tensor = torch.tensor([all_categories.index(category)],\n",
        "                                 dtype=torch.long) # returns the index position of country_code in all_categories\n",
        "  line_tensor = line_to_tensor(line)\n",
        "  return category, line, category_tensor, line_tensor\n",
        "\n",
        "for i in range(10):\n",
        "  category, line, category_tensor, line_tensor = random_training_example()\n",
        "  print(category, line, category_tensor.item(), line_tensor.shape)"
      ]
    },
    {
      "cell_type": "code",
      "source": [
        "line_tensor.shape"
      ],
      "metadata": {
        "colab": {
          "base_uri": "https://localhost:8080/"
        },
        "id": "G_PSrbwaOLSr",
        "outputId": "c8085917-39fb-47bf-c144-57dae61815e4"
      },
      "execution_count": 9,
      "outputs": [
        {
          "output_type": "execute_result",
          "data": {
            "text/plain": [
              "torch.Size([4, 1, 57])"
            ]
          },
          "metadata": {},
          "execution_count": 9
        }
      ]
    },
    {
      "cell_type": "markdown",
      "metadata": {
        "id": "IQ8uNOdzOMpn"
      },
      "source": [
        "## Training the network"
      ]
    },
    {
      "cell_type": "code",
      "execution_count": 10,
      "metadata": {
        "id": "K0P1As3gP1E-"
      },
      "outputs": [],
      "source": [
        "criterion = nn.NLLLoss() # loss function\n",
        "learning_rate = 0.005\n",
        "\n",
        "def train(category_tensor: torch.Tensor, line_tensor: torch.Tensor):\n",
        "  \"\"\"\n",
        "  Train the model on given a name (e.g., 'Daniel') through individual characters.\n",
        "  Indexing through line_tensor[i] from [len(name), 1, n_characters_general].\n",
        "\n",
        "  Parameters\n",
        "  ----------\n",
        "  category_tensor:\n",
        "      index position of country_code in all_categories\n",
        "  line_tensor:\n",
        "      a tensor of shape ([name, 1, n_letters(vocab)]).\n",
        "      it represent a name in one-hot vector.\n",
        "  \"\"\"\n",
        "  hidden = rnn.init_hidden() # hidden unit is given an extra dimension remember.\n",
        "\n",
        "  rnn.zero_grad()\n",
        "\n",
        "  for i in range(line_tensor.size()[0]):\n",
        "    output, hidden = rnn(line_tensor[i], hidden) # each character pass through the model of shape, [1, 57] each.\n",
        "\n",
        "  loss = criterion(output, category_tensor)\n",
        "  loss.backward()\n",
        "\n",
        "  for p in rnn.parameters():\n",
        "    p.data.add_(p.grad.data, alpha=-learning_rate)\n",
        "\n",
        "  return output, loss.item()"
      ]
    },
    {
      "cell_type": "code",
      "execution_count": 11,
      "metadata": {
        "colab": {
          "base_uri": "https://localhost:8080/"
        },
        "id": "osv64WRBTfMY",
        "outputId": "215f6ca9-31e1-4695-c8f6-9228463069e2"
      },
      "outputs": [
        {
          "output_type": "stream",
          "name": "stdout",
          "text": [
            "5000 5% (0m 22s) 1.6087 Sibonelo BW / ✗ (ZA)\n",
            "10000 10% (0m 32s) 1.9708 Wai GH / ✗ (CA)\n",
            "15000 15% (0m 47s) 2.2876 Alhasan DJ / ✗ (GH)\n",
            "20000 20% (0m 58s) 0.9585 Khadijah GH / ✓\n",
            "25000 25% (1m 9s) 1.2290 Asemahle ZA / ✓\n",
            "30000 30% (1m 20s) 2.5519 Hebob BF / ✗ (DJ)\n",
            "35000 35% (1m 30s) 0.3500 Djamila Said DJ / ✓\n",
            "40000 40% (1m 41s) 1.2958 Annick CA / ✓\n",
            "45000 45% (1m 51s) 3.0501 Zuena Hasman DJ / ✗ (BI)\n",
            "50000 50% (2m 1s) 2.9050 Charouf CA / ✗ (DJ)\n",
            "55000 55% (2m 12s) 2.2234 Omotoso BW / ✗ (NG)\n",
            "60000 60% (2m 22s) 0.8506 Tochukwu NG / ✓\n",
            "65000 65% (2m 33s) 1.6710 Lewis NA / ✗ (CA)\n",
            "70000 70% (2m 43s) 2.1712 Lasisi BW / ✗ (NG)\n",
            "75000 75% (2m 53s) 1.0638 Marnie CA / ✓\n",
            "80000 80% (3m 4s) 0.5700 Janet CA / ✓\n",
            "85000 85% (3m 14s) 1.5134 Sougueh GH / ✗ (DJ)\n",
            "90000 90% (3m 24s) 2.8782 Tonde BW / ✗ (BF)\n",
            "95000 95% (3m 34s) 1.8894 Chanelle NA / ✗ (CA)\n",
            "100000 100% (3m 45s) 2.7171 Chenjerai NA / ✗ (BW)\n"
          ]
        }
      ],
      "source": [
        "import time, math\n",
        "\n",
        "n_iters = 100000\n",
        "print_every = 5_000\n",
        "plot_every = 1_000\n",
        "\n",
        "# keep track of losses for plotting\n",
        "current_loss = 0\n",
        "all_losses = []\n",
        "\n",
        "def time_since(since):\n",
        "  now = time.time()\n",
        "  s = now - since\n",
        "  m = math.floor(s / 60)\n",
        "  s -= m * 60\n",
        "  return f'{m}m {s:.0f}s'\n",
        "\n",
        "start = time.time()\n",
        "\n",
        "for iter in range(1, n_iters + 1):\n",
        "  category, line, category_tensor, line_tensor = random_training_example()\n",
        "  output, loss = train(category_tensor, line_tensor)\n",
        "  current_loss += loss\n",
        "\n",
        "  if iter % print_every == 0:\n",
        "    guess, guess_i = category_from_output(output)\n",
        "    correct = '✓' if guess == category else '✗ (%s)' % category\n",
        "    print(f'{iter} {iter / n_iters * 100:.0f}% ({time_since(start)}) {loss:.4f} {line} {guess} / {correct}')\n",
        "  if iter % plot_every == 0:\n",
        "    all_losses.append(current_loss / plot_every)\n",
        "    current_loss = 0"
      ]
    },
    {
      "cell_type": "code",
      "execution_count": 12,
      "metadata": {
        "id": "RhphAr3lba27",
        "colab": {
          "base_uri": "https://localhost:8080/",
          "height": 447
        },
        "outputId": "7ecbbf91-0d18-4dac-de05-11446fb94380"
      },
      "outputs": [
        {
          "output_type": "execute_result",
          "data": {
            "text/plain": [
              "[<matplotlib.lines.Line2D at 0x7b1898cd4e20>]"
            ]
          },
          "metadata": {},
          "execution_count": 12
        },
        {
          "output_type": "display_data",
          "data": {
            "text/plain": [
              "<Figure size 640x480 with 1 Axes>"
            ],
            "image/png": "[encoded data removed]"
          },
          "metadata": {}
        }
      ],
      "source": [
        "import matplotlib.pyplot as plt\n",
        "import matplotlib.ticker as ticker\n",
        "\n",
        "plt.figure()\n",
        "plt.plot(all_losses)"
      ]
    },
    {
      "cell_type": "markdown",
      "metadata": {
        "id": "0QwrCNurh-Bj"
      },
      "source": [
        "## Evaluate the results"
      ]
    },
    {
      "cell_type": "code",
      "execution_count": 13,
      "metadata": {
        "id": "6-4zSv22ot5i"
      },
      "outputs": [],
      "source": [
        "def evaluate(line_tensor):\n",
        "  hidden = rnn.init_hidden()\n",
        "\n",
        "  for i in range(line_tensor.size()[0]):\n",
        "    output, hidden = rnn(line_tensor[i], hidden)\n",
        "  return output\n",
        "\n",
        "def predict(input_line, n_predictions=3):\n",
        "  print(f'\\n {input_line}')\n",
        "\n",
        "  with torch.no_grad(): # we are no longer training, but evaluating\n",
        "    output = evaluate(line_to_tensor(input_line))\n",
        "\n",
        "    topv, topi = output.topk(n_predictions, 1, True)\n",
        "    predictions = []\n",
        "\n",
        "    for i in range(n_predictions):\n",
        "      value = topv[0][i].item()\n",
        "      category_index = topi[0][i].item()\n",
        "      print('(%.2f) %s' % (value, all_categories[category_index]))\n",
        "      predictions.append([value, all_categories[category_index]])"
      ]
    },
    {
      "cell_type": "code",
      "execution_count": 14,
      "metadata": {
        "id": "fcg78yufih3I",
        "colab": {
          "base_uri": "https://localhost:8080/"
        },
        "outputId": "5e8fabfb-83b1-42e6-c14a-edd71fe7a371"
      },
      "outputs": [
        {
          "metadata": {
            "tags": null
          },
          "name": "stdout",
          "output_type": "stream",
          "text": [
            "\n",
            " Precious\n",
            "(-0.74) NA\n",
            "(-1.89) NG\n",
            "(-2.56) ZA\n"
          ]
        }
      ],
      "source": [
        "predict('Precious')"
      ]
    },
    {
      "cell_type": "markdown",
      "source": [
        "reference: Pytorch intermidate tutorial [Link](https://pytorch.org/tutorials/intermediate/char_rnn_classification_tutorialhttps://)"
      ],
      "metadata": {
        "id": "MATokTWawl-K"
      }
    }
  ],
  "metadata": {
    "colab": {
      "provenance": []
    },
    "kernelspec": {
      "display_name": "Python 3",
      "name": "python3"
    },
    "language_info": {
      "name": "python"
    }
  },
  "nbformat": 4,
  "nbformat_minor": 0
}