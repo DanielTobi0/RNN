{
  "nbformat": 4,
  "nbformat_minor": 0,
  "metadata": {
    "colab": {
      "provenance": []
    },
    "kernelspec": {
      "name": "python3",
      "display_name": "Python 3"
    },
    "language_info": {
      "name": "python"
    }
  },
  "cells": [
    {
      "cell_type": "code",
      "execution_count": 1,
      "metadata": {
        "id": "XRKz7ElgPV2A",
        "colab": {
          "base_uri": "https://localhost:8080/"
        },
        "outputId": "3e6d8688-c060-41b8-e068-117167a26606"
      },
      "outputs": [
        {
          "output_type": "stream",
          "name": "stdout",
          "text": [
            "\u001b[2K     \u001b[90m━━━━━━━━━━━━━━━━━━━━━━━━━━━━━━━━━━━━━━━━\u001b[0m \u001b[32m58.4/58.4 MB\u001b[0m \u001b[31m5.7 MB/s\u001b[0m eta \u001b[36m0:00:00\u001b[0m\n",
            "\u001b[?25h  Preparing metadata (setup.py) ... \u001b[?25l\u001b[?25hdone\n",
            "\u001b[2K     \u001b[90m━━━━━━━━━━━━━━━━━━━━━━━━━━━━━━━━━━━━━━━━\u001b[0m \u001b[32m6.2/6.2 MB\u001b[0m \u001b[31m50.0 MB/s\u001b[0m eta \u001b[36m0:00:00\u001b[0m\n",
            "\u001b[?25h  Building wheel for names-dataset (setup.py) ... \u001b[?25l\u001b[?25hdone\n"
          ]
        }
      ],
      "source": [
        "pip install names-dataset -q"
      ]
    },
    {
      "cell_type": "code",
      "source": [
        "from names_dataset import NameDataset, NameWrapper\n",
        "from typing import Tuple, List"
      ],
      "metadata": {
        "id": "TdSC_aoESmW3"
      },
      "execution_count": 2,
      "outputs": []
    },
    {
      "cell_type": "code",
      "source": [
        "'''\n",
        "Burundi:            BI\n",
        "Bostwana:           BW\n",
        "Burkina Faso:       BF\n",
        "Cameroon:           CA\n",
        "Djibouti:           DJ\n",
        "Ghana:              GH\n",
        "Namibia:            NA\n",
        "Nigeria:            NG\n",
        "South Africa:       ZA\n",
        "'''"
      ],
      "metadata": {
        "id": "p5RTYtE7Yd7R",
        "colab": {
          "base_uri": "https://localhost:8080/",
          "height": 53
        },
        "outputId": "5a26b68a-ea91-48b3-8084-e1613cee25a6"
      },
      "execution_count": null,
      "outputs": [
        {
          "output_type": "execute_result",
          "data": {
            "text/plain": [
              "'\\nBurundi:            BI\\nBostwana:           BW\\nBurkina Faso:       BF\\nCameroon:           CA\\nDjibouti:           DJ\\nGhana:              GH\\nNamibia:            NA\\nNigeria:            NG\\nSouth Africa:       ZA\\n'"
            ],
            "application/vnd.google.colaboratory.intrinsic+json": {
              "type": "string"
            }
          },
          "metadata": {},
          "execution_count": 5
        }
      ]
    },
    {
      "cell_type": "code",
      "source": [
        "def get_country_names(country_code: str, n_names: int = 1000) -> Tuple[List[str], str]:\n",
        "  '''\n",
        "  This used the names_dataset to quickly source for local names, in a country of choice.\n",
        "\n",
        "  Parameters\n",
        "  ----------\n",
        "  country_code: str\n",
        "          a short code, representing the country name.\n",
        "  n_names: int optional\n",
        "          number of names to be generated. (note it generate 2x of n_names passed)\n",
        "\n",
        "  Returns\n",
        "  -------\n",
        "  Tuple[List[str], str]\n",
        "          a tuple list containing a list of generated names and the country code.\n",
        "  '''\n",
        "  nd = NameDataset()\n",
        "\n",
        "  names = []\n",
        "  names_dict = nd.get_top_names(n=n_names, country_alpha2=country_code) # gets the name\n",
        "  names.extend(names_dict[country_code]['M']) # extend(append) to names\n",
        "  names.extend(names_dict[country_code]['F'])\n",
        "  return names, country_code\n",
        "\n",
        "\n",
        "\n",
        "\n",
        "import unicodedata\n",
        "import string\n",
        "\n",
        "# combining the ascii characters with some other characters.\n",
        "all_letters = string.ascii_letters + \" .,;\"\n",
        "\n",
        "def unicode_to_ascii(s: str) -> str:\n",
        "  '''\n",
        "  Turn a unicode string to plain ASCII\n",
        "\n",
        "  Parameters\n",
        "  ----------\n",
        "  s: str\n",
        "    represent a name to be passed to the function.\n",
        "\n",
        "  Returns\n",
        "  -------\n",
        "  str\n",
        "    returns a word stripped of all it unicode characters.\n",
        "  '''\n",
        "  return ''.join(\n",
        "      c for c in unicodedata.normalize('NFD', s)\n",
        "      if unicodedata.category(c) != 'Mn'\n",
        "      and c in all_letters\n",
        "  )\n",
        "\n",
        "\n",
        "\n",
        "\n",
        "def write_list_to_file(names: List[str], country_code: str) -> None:\n",
        "  '''\n",
        "  This function takes the output of get_country_names(), it writes the names and country code to file.\n",
        "\n",
        "  Parameters\n",
        "  ----------\n",
        "  names: List[str]\n",
        "      a list containing strings(names).\n",
        "  country_code: str\n",
        "      a short code, representing the country name.\n",
        "\n",
        "  Returns\n",
        "  -------\n",
        "  None\n",
        "  '''\n",
        "\n",
        "  path = '/content/drive/MyDrive/Colab_Notebooks/So_help_me_God/common_countries_name/'\n",
        "\n",
        "  new_name = []\n",
        "  for name in names:\n",
        "    new_name.append(unicode_to_ascii(name))\n",
        "\n",
        "  names = [name.strip() for name in new_name if name.strip() and len(name.strip()) > 2]\n",
        "  names = list(set(names))\n",
        "\n",
        "\n",
        "  # write to file\n",
        "  with open(path + country_code + '.txt', 'w') as f:\n",
        "    for name in names:\n",
        "      f.write(name + '\\n')\n",
        "  f.close()"
      ],
      "metadata": {
        "id": "Bf6BbQgqn6yO"
      },
      "execution_count": 34,
      "outputs": []
    },
    {
      "cell_type": "code",
      "source": [
        "def filter_data(data):\n",
        "  '''\n",
        "  this function makes sure there are no identical names, in the whole list[dict[list]]\n",
        "\n",
        "  '''\n",
        "  seen = set()\n",
        "\n",
        "  for d in data:\n",
        "      for key, value in d.items():\n",
        "          for item in value:\n",
        "              if item in seen:\n",
        "                  for other_d in data:\n",
        "                      if key in other_d and item in other_d[key]:\n",
        "                          other_d[key].remove(item)\n",
        "              else:\n",
        "                  seen.add(item)\n",
        "  return data"
      ],
      "metadata": {
        "id": "YStLU3oiBYWQ"
      },
      "execution_count": 35,
      "outputs": []
    },
    {
      "cell_type": "code",
      "source": [
        "country_code = ['BI', 'BW', 'BF', 'CA', 'DJ', 'GH', 'NA', 'NG', 'ZA']\n",
        "list_files_dict = []\n",
        "\n",
        "for country in country_code:\n",
        "  names, code = get_country_names(country, 400)\n",
        "\n",
        "  # create dict\n",
        "  files_dict = {code: names}\n",
        "  list_files_dict.append(files_dict)\n",
        "\n",
        "filtered_data = filter_data(list_files_dict)\n",
        "\n",
        "for country_data in filtered_data:\n",
        "    for code, names in country_data.items():\n",
        "        write_list_to_file(names, code)"
      ],
      "metadata": {
        "id": "4Ue6USudyble"
      },
      "execution_count": 37,
      "outputs": []
    },
    {
      "cell_type": "code",
      "source": [],
      "metadata": {
        "id": "XtVPTb0KE009"
      },
      "execution_count": 36,
      "outputs": []
    }
  ]
}