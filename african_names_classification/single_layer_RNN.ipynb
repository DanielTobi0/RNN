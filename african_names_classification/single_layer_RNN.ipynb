{
  "cells": [
    {
      "cell_type": "markdown",
      "metadata": {
        "id": "9UrDrrf4weHW"
      },
      "source": [
        "# Classifying names using RNN"
      ]
    },
    {
      "cell_type": "markdown",
      "metadata": {
        "id": "SY-nK2Ih0Db-"
      },
      "source": [
        "## Data preparation"
      ]
    },
    {
      "cell_type": "code",
      "execution_count": 91,
      "metadata": {
        "id": "oNKgOKf9sbCh"
      },
      "outputs": [],
      "source": [
        "# Importing libaries\n",
        "\n",
        "from io import open\n",
        "import unicodedata\n",
        "import string\n",
        "import glob\n",
        "import os\n",
        "\n",
        "\n",
        "def find_files(path: str):\n",
        "  ''' Return all availble files that have a .txt extension, from the given path.'''\n",
        "  return glob.glob(path)\n",
        "\n",
        "\n",
        "# Combining the ascii character with some other characters.\n",
        "all_letters = string.ascii_letters + \" .,;'\"\n",
        "n_letters = len(all_letters)\n",
        "\n",
        "\n",
        "# Turn a Unicode string to plain ASCII\n",
        "def unicode_to_ascii(s):\n",
        "  return ''.join(\n",
        "      c for c in unicodedata.normalize('NFD', s)\n",
        "      if unicodedata.category(c) != 'Mn'\n",
        "      and c in all_letters\n",
        "  )\n",
        "# print(unicode_to_ascii('Ślusàrski')) -> Slusarski\n",
        "\n",
        "\n",
        "def read_lines(filename):\n",
        "  '''Read a file, convert all text to plain ASCII and return as words in a list.'''\n",
        "  lines = open(filename, encoding='utf-8').read().strip().split('\\n')\n",
        "  return [unicode_to_ascii(line) for line in lines]\n",
        "\n",
        "\n",
        "\n",
        "# Build a vocabulary_line dictionary,\n",
        "# mapping multiples names (item) to country (key). example {'country_code': [names]}\n",
        "category_lines = {}\n",
        "all_categories = []\n",
        "path = '/content/drive/MyDrive/Colab_Notebooks/So_help_me_God/common_countries_name/*.txt'\n",
        "\n",
        "for filename in find_files(path):\n",
        "  category = os.path.splitext(os.path.basename(filename))[0]\n",
        "  all_categories.append(category)\n",
        "  lines = read_lines(filename)\n",
        "  category_lines[category] = lines\n",
        "\n",
        "n_categories = len(all_categories)"
      ]
    },
    {
      "cell_type": "markdown",
      "source": [
        "Country names and their short code\n",
        "```\n",
        "Burundi:      BI             \n",
        "Bostwana:     BW             \n",
        "Burkina Faso: BF\n",
        "Cameroon:     CA             \n",
        "Djibouti:     DJ              \n",
        "Ghana:        GH                \n",
        "Namibia:      NA              \n",
        "Nigeria:      NG              \n",
        "South Africa: ZA\n",
        "```"
      ],
      "metadata": {
        "id": "Ieu-87Zx9918"
      }
    },
    {
      "cell_type": "code",
      "source": [
        "all_categories"
      ],
      "metadata": {
        "colab": {
          "base_uri": "https://localhost:8080/"
        },
        "id": "Jhzsq0STVvOy",
        "outputId": "d0d62866-aab5-4c7d-aac1-6b836d875694"
      },
      "execution_count": 92,
      "outputs": [
        {
          "output_type": "execute_result",
          "data": {
            "text/plain": [
              "['DJ', 'ZA', 'NG', 'GH', 'NA', 'CA', 'BF', 'BW', 'BI']"
            ]
          },
          "metadata": {},
          "execution_count": 92
        }
      ]
    },
    {
      "cell_type": "code",
      "execution_count": 93,
      "metadata": {
        "colab": {
          "base_uri": "https://localhost:8080/"
        },
        "id": "-8W2GefF47j7",
        "outputId": "1e7043f4-2028-47aa-8127-fb12f094ae11"
      },
      "outputs": [
        {
          "output_type": "stream",
          "name": "stdout",
          "text": [
            "['Alh', 'Dan', 'Nura', 'Bernard', 'Nasiru']\n"
          ]
        }
      ],
      "source": [
        "print(category_lines['NG'][:5])"
      ]
    },
    {
      "cell_type": "markdown",
      "metadata": {
        "id": "HgPVgouD8YCk"
      },
      "source": [
        "## Turning names into Tensors"
      ]
    },
    {
      "cell_type": "code",
      "execution_count": 94,
      "metadata": {
        "colab": {
          "base_uri": "https://localhost:8080/"
        },
        "id": "mJurwan97Rlq",
        "outputId": "1b441899-fe28-4bb7-8148-3d6701b12ceb"
      },
      "outputs": [
        {
          "output_type": "execute_result",
          "data": {
            "text/plain": [
              "tensor([[[0., 0., 0., 0., 0., 0., 0., 0., 0., 0., 0., 0., 0., 0., 0., 0., 0.,\n",
              "          0., 0., 0., 0., 0., 0., 0., 0., 0., 1., 0., 0., 0., 0., 0., 0., 0.,\n",
              "          0., 0., 0., 0., 0., 0., 0., 0., 0., 0., 0., 0., 0., 0., 0., 0., 0.,\n",
              "          0., 0., 0., 0., 0., 0.]],\n",
              "\n",
              "        [[0., 0., 0., 1., 0., 0., 0., 0., 0., 0., 0., 0., 0., 0., 0., 0., 0.,\n",
              "          0., 0., 0., 0., 0., 0., 0., 0., 0., 0., 0., 0., 0., 0., 0., 0., 0.,\n",
              "          0., 0., 0., 0., 0., 0., 0., 0., 0., 0., 0., 0., 0., 0., 0., 0., 0.,\n",
              "          0., 0., 0., 0., 0., 0.]],\n",
              "\n",
              "        [[1., 0., 0., 0., 0., 0., 0., 0., 0., 0., 0., 0., 0., 0., 0., 0., 0.,\n",
              "          0., 0., 0., 0., 0., 0., 0., 0., 0., 0., 0., 0., 0., 0., 0., 0., 0.,\n",
              "          0., 0., 0., 0., 0., 0., 0., 0., 0., 0., 0., 0., 0., 0., 0., 0., 0.,\n",
              "          0., 0., 0., 0., 0., 0.]]])"
            ]
          },
          "metadata": {},
          "execution_count": 94
        }
      ],
      "source": [
        "import torchtext, torch\n",
        "\n",
        "def letter_to_index(letter):\n",
        "  '''Returns the index of a single passed character/letter.'''\n",
        "  return all_letters.find(letter)\n",
        "\n",
        "def letter_to_tensor(letter):\n",
        "  '''One hot encoding. example [0,0,0,1,0,0] where only one index gets 1 rest is 0.'''\n",
        "  tensor = torch.zeros(1, n_letters)\n",
        "  tensor[0][letter_to_index(letter)] = 1\n",
        "  return tensor\n",
        "\n",
        "\n",
        "def line_to_tensor(line):\n",
        "  '''Turn a name into tensor'''\n",
        "  tensor = torch.zeros(len(line), 1, n_letters)\n",
        "  for li, letter in enumerate(line):\n",
        "    tensor[li][0][letter_to_index(letter)] = 1\n",
        "  return tensor\n",
        "\n",
        "# In each dimension only one index becomes 1, rest is 0.\n",
        "line_to_tensor('Ada')"
      ]
    },
    {
      "cell_type": "markdown",
      "metadata": {
        "id": "LE_HksXvBzvn"
      },
      "source": [
        "# Creating the Network"
      ]
    },
    {
      "cell_type": "code",
      "execution_count": 95,
      "metadata": {
        "id": "CM1om9cqDXsw"
      },
      "outputs": [],
      "source": [
        "import torch.nn as nn\n",
        "\n",
        "class RNN(nn.Module):\n",
        "  def __init__(self, input_size, hidden_size, output_size):\n",
        "    super(RNN, self).__init__()\n",
        "\n",
        "    self.hidden_size = hidden_size\n",
        "    self.i2h = nn.Linear(input_size + hidden_size, hidden_size)\n",
        "    self.h2o = nn.Linear(hidden_size, output_size)\n",
        "    self.softmax = nn.LogSoftmax(dim=1)\n",
        "\n",
        "  def forward(self, input, hidden):\n",
        "    combined = torch.cat((input, hidden), 1)\n",
        "    hidden = self.i2h(combined) # shape torch.Size([1, input+hidden])\n",
        "    output = self.h2o(hidden)\n",
        "    output = self.softmax(output)\n",
        "    return output, hidden\n",
        "\n",
        "  def init_hidden(self):\n",
        "    return torch.zeros(1, self.hidden_size)\n",
        "\n",
        "n_hidden = 128\n",
        "rnn = RNN(n_letters, n_hidden, n_categories) # n_letter(57 characters) as input, n_categories: numbers of countries to predict"
      ]
    },
    {
      "cell_type": "markdown",
      "source": [
        "## Running a single pass\n",
        "in this step only one value in the name is passed through the model.\n"
      ],
      "metadata": {
        "id": "bPVUJAlf_5i1"
      }
    },
    {
      "cell_type": "code",
      "execution_count": 96,
      "metadata": {
        "colab": {
          "base_uri": "https://localhost:8080/"
        },
        "id": "Wu5VN-K1FcQr",
        "outputId": "d7940139-756e-4232-97e7-2963866ca141"
      },
      "outputs": [
        {
          "output_type": "stream",
          "name": "stdout",
          "text": [
            "torch.Size([1, 57])\n"
          ]
        },
        {
          "output_type": "execute_result",
          "data": {
            "text/plain": [
              "tensor([[-2.1117, -2.2411, -2.1875, -2.2576, -2.0813, -2.2079, -2.2363, -2.2232,\n",
              "         -2.2442]], grad_fn=<LogSoftmaxBackward0>)"
            ]
          },
          "metadata": {},
          "execution_count": 96
        }
      ],
      "source": [
        "input = line_to_tensor('Daniel') # torch.Size([6, 1, 56])\n",
        "print(input[0].shape) # 'D' torch.Size([1, 56])\n",
        "hidden = torch.zeros(1, n_hidden)\n",
        "\n",
        "output, next_hidden = rnn(input[0], hidden) # forward pass\n",
        "output # Propabilities prediction of each countries."
      ]
    },
    {
      "cell_type": "markdown",
      "metadata": {
        "id": "5KdQD4AlKCIx"
      },
      "source": [
        "## Training"
      ]
    },
    {
      "cell_type": "code",
      "execution_count": 97,
      "metadata": {
        "colab": {
          "base_uri": "https://localhost:8080/"
        },
        "id": "aM_yMmsWFpay",
        "outputId": "abd20dc2-c4a6-4aa5-dd68-658483a867bc"
      },
      "outputs": [
        {
          "output_type": "execute_result",
          "data": {
            "text/plain": [
              "('NA', 4)"
            ]
          },
          "metadata": {},
          "execution_count": 97
        }
      ],
      "source": [
        "def category_from_output(output):\n",
        "  top_n, top_i = output.topk(1)\n",
        "  category_i = top_i[0].item()\n",
        "  return all_categories[category_i], category_i\n",
        "\n",
        "category_from_output(output)"
      ]
    },
    {
      "cell_type": "markdown",
      "source": [
        "## Returns a random training example"
      ],
      "metadata": {
        "id": "H5Ug0srMBrME"
      }
    },
    {
      "cell_type": "code",
      "execution_count": 98,
      "metadata": {
        "colab": {
          "base_uri": "https://localhost:8080/"
        },
        "id": "itzIqKi1JnV7",
        "outputId": "778d0601-8a45-47dc-f903-0cd033feb170"
      },
      "outputs": [
        {
          "output_type": "stream",
          "name": "stdout",
          "text": [
            "NA Quinton 4 torch.Size([7, 1, 57])\n",
            "DJ Hawa Noura 0 torch.Size([10, 1, 57])\n",
            "BF Lofo 6 torch.Size([4, 1, 57])\n",
            "BW Thembie 7 torch.Size([7, 1, 57])\n",
            "CA Shannon 5 torch.Size([7, 1, 57])\n",
            "GH Becca 3 torch.Size([5, 1, 57])\n",
            "BW Buyani 7 torch.Size([6, 1, 57])\n",
            "NG Nwankwo 2 torch.Size([7, 1, 57])\n",
            "BF Lankoande 6 torch.Size([9, 1, 57])\n",
            "DJ Nicky Manaj 0 torch.Size([11, 1, 57])\n"
          ]
        }
      ],
      "source": [
        "import random\n",
        "\n",
        "def random_choice(l):\n",
        "  '''returns a random character from l, based on indexing.'''\n",
        "  return l[random.randint(0, len(l)-1)]\n",
        "\n",
        "def random_training_example():\n",
        "  '''Returns a random training example.'''\n",
        "  category = random_choice(all_categories)\n",
        "  line = random_choice(category_lines[category])\n",
        "  category_tensor = torch.tensor([all_categories.index(category)],\n",
        "                                 dtype=torch.long)\n",
        "  line_tensor = line_to_tensor(line)\n",
        "  return category, line, category_tensor, line_tensor\n",
        "\n",
        "for i in range(10):\n",
        "  category, line, category_tensor, line_tensor = random_training_example()\n",
        "  print(category, line, category_tensor.item(), line_tensor.shape)"
      ]
    },
    {
      "cell_type": "markdown",
      "metadata": {
        "id": "IQ8uNOdzOMpn"
      },
      "source": [
        "## Training the network"
      ]
    },
    {
      "cell_type": "code",
      "execution_count": 99,
      "metadata": {
        "id": "K0P1As3gP1E-"
      },
      "outputs": [],
      "source": [
        "criterion = nn.NLLLoss() # loss fn\n",
        "learning_rate = 0.005\n",
        "\n",
        "def train(category_tensor, line_tensor):\n",
        "  \"\"\"\n",
        "  Train the model given a name (e.g., 'Daniel') through individual characters.\n",
        "  Indexing through line_tensor[i] from [len(name), 1, n_characters_general].\n",
        "  \"\"\"\n",
        "  hidden = rnn.init_hidden() # give hidden unit the extra dimension\n",
        "\n",
        "  rnn.zero_grad()\n",
        "\n",
        "  for i in range(line_tensor.size()[0]):\n",
        "    output, hidden = rnn(line_tensor[i], hidden) # passing [1, 57] each loop/each character at a time.\n",
        "\n",
        "  loss = criterion(output, category_tensor)\n",
        "  loss.backward()\n",
        "\n",
        "  for p in rnn.parameters():\n",
        "    p.data.add_(p.grad.data, alpha=-learning_rate)\n",
        "\n",
        "  return output, loss.item()"
      ]
    },
    {
      "cell_type": "code",
      "execution_count": 100,
      "metadata": {
        "colab": {
          "base_uri": "https://localhost:8080/"
        },
        "id": "osv64WRBTfMY",
        "outputId": "87e7fffd-4d99-47b2-f653-ffe24f46ae8a"
      },
      "outputs": [
        {
          "output_type": "stream",
          "name": "stdout",
          "text": [
            "5000 5% (0m 8s) 2.1856 Esther DJ / ✗ (GH)\n",
            "10000 10% (0m 16s) 2.0836 Nicaise Dg DJ / ✗ (BF)\n",
            "15000 15% (0m 25s) 0.6880 Mamoud Abasse BF / ✓\n",
            "20000 20% (0m 33s) 0.8409 Adrien CA / ✓\n",
            "25000 25% (0m 41s) 1.9899 Loretta NA / ✗ (GH)\n",
            "30000 30% (0m 49s) 1.0468 Ravneet CA / ✓\n",
            "35000 35% (0m 57s) 1.4763 Akuba NA / ✗ (GH)\n",
            "40000 40% (1m 5s) 2.0671 Botswana GH / ✗ (BW)\n",
            "45000 45% (1m 13s) 0.9613 Zougounoma BF / ✓\n",
            "50000 50% (1m 21s) 1.9065 Katoum GH / ✗ (DJ)\n",
            "55000 55% (1m 30s) 1.8356 Nonnie ZA / ✗ (BW)\n",
            "60000 60% (1m 39s) 1.9596 James NA / ✗ (NG)\n",
            "65000 65% (1m 47s) 2.4541 Lazarus NA / ✗ (NG)\n",
            "70000 70% (1m 56s) 2.5968 Aghogho BW / ✗ (NG)\n",
            "75000 75% (2m 3s) 2.1163 Irene CA / ✗ (ZA)\n",
            "80000 80% (2m 12s) 3.3071 Paulos BF / ✗ (ZA)\n",
            "85000 85% (2m 19s) 0.6485 Sakyiwaa GH / ✓\n",
            "90000 90% (2m 27s) 1.7348 Baaba BF / ✗ (GH)\n",
            "95000 95% (2m 35s) 1.9230 Ghassane BW / ✗ (BF)\n",
            "100000 100% (2m 43s) 2.0981 Itz NG / ✗ (GH)\n"
          ]
        }
      ],
      "source": [
        "import time, math\n",
        "\n",
        "n_iters = 100000\n",
        "print_every = 5_000\n",
        "plot_every = 1_000\n",
        "\n",
        "# keep track of losses for plotting\n",
        "current_loss = 0\n",
        "all_losses = []\n",
        "\n",
        "def time_since(since):\n",
        "  now = time.time()\n",
        "  s = now - since\n",
        "  m = math.floor(s / 60)\n",
        "  s -= m * 60\n",
        "  return f'{m}m {s:.0f}s'\n",
        "\n",
        "\n",
        "start = time.time()\n",
        "for iter in range(1, n_iters + 1):\n",
        "  category, line, category_tensor, line_tensor = random_training_example()\n",
        "  output, loss = train(category_tensor, line_tensor)\n",
        "  current_loss += loss\n",
        "\n",
        "  if iter % print_every == 0:\n",
        "    guess, guess_i = category_from_output(output)\n",
        "    correct = '✓' if guess == category else '✗ (%s)' % category\n",
        "    print(f'{iter} {iter / n_iters * 100:.0f}% ({time_since(start)}) {loss:.4f} {line} {guess} / {correct}')\n",
        "  if iter % plot_every == 0:\n",
        "    all_losses.append(current_loss / plot_every)\n",
        "    current_loss = 0"
      ]
    },
    {
      "cell_type": "code",
      "execution_count": 101,
      "metadata": {
        "id": "RhphAr3lba27",
        "colab": {
          "base_uri": "https://localhost:8080/",
          "height": 447
        },
        "outputId": "198c3fbe-5586-4cdd-a224-24219a6edb96"
      },
      "outputs": [
        {
          "output_type": "execute_result",
          "data": {
            "text/plain": [
              "[<matplotlib.lines.Line2D at 0x7b38f1a02260>]"
            ]
          },
          "metadata": {},
          "execution_count": 101
        },
        {
          "output_type": "display_data",
          "data": {
            "text/plain": [
              "<Figure size 640x480 with 1 Axes>"
            ],
            "image/png": "[encoded data removed]"
          },
          "metadata": {}
        }
      ],
      "source": [
        "import matplotlib.pyplot as plt\n",
        "import matplotlib.ticker as ticker\n",
        "\n",
        "plt.figure()\n",
        "plt.plot(all_losses)"
      ]
    },
    {
      "cell_type": "markdown",
      "metadata": {
        "id": "0QwrCNurh-Bj"
      },
      "source": [
        "## Evaluate the results"
      ]
    },
    {
      "cell_type": "code",
      "execution_count": 102,
      "metadata": {
        "id": "6-4zSv22ot5i"
      },
      "outputs": [],
      "source": [
        "confusion = torch.zeros(n_categories, n_categories)\n",
        "n_confusion = 10_000\n",
        "\n",
        "def evaluate(line_tensor):\n",
        "  hidden = rnn.init_hidden()\n",
        "\n",
        "  for i in range(line_tensor.size()[0]):\n",
        "    output, hidden = rnn(line_tensor[i], hidden)\n",
        "  return output\n",
        "\n",
        "def predict(input_line, n_predictions=3):\n",
        "  print(f'\\n {input_line}')\n",
        "\n",
        "  with torch.no_grad(): # we are no longer training, but evaluating\n",
        "    output = evaluate(line_to_tensor(input_line))\n",
        "\n",
        "    topv, topi = output.topk(n_predictions, 1, True)\n",
        "    predictions = []\n",
        "\n",
        "    for i in range(n_predictions):\n",
        "      value = topv[0][i].item()\n",
        "      category_index = topi[0][i].item()\n",
        "      print('(%.2f) %s' % (value, all_categories[category_index]))\n",
        "      predictions.append([value, all_categories[category_index]])"
      ]
    },
    {
      "cell_type": "code",
      "execution_count": 106,
      "metadata": {
        "id": "fcg78yufih3I",
        "colab": {
          "base_uri": "https://localhost:8080/"
        },
        "outputId": "eb26800d-f54f-4ddd-8f16-08929bcfef72"
      },
      "outputs": [
        {
          "output_type": "stream",
          "name": "stdout",
          "text": [
            "\n",
            " Ade\n",
            "(-1.68) NG\n",
            "(-1.84) GH\n",
            "(-1.89) CA\n"
          ]
        }
      ],
      "source": [
        "predict('Ade')"
      ]
    },
    {
      "cell_type": "code",
      "execution_count": 103,
      "metadata": {
        "id": "MlMSN2LNlK85"
      },
      "outputs": [],
      "source": []
    }
  ],
  "metadata": {
    "colab": {
      "provenance": []
    },
    "kernelspec": {
      "display_name": "Python 3",
      "name": "python3"
    },
    "language_info": {
      "name": "python"
    }
  },
  "nbformat": 4,
  "nbformat_minor": 0
}